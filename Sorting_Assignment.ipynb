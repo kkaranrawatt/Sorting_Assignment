{
 "cells": [
  {
   "cell_type": "code",
   "execution_count": 3,
   "id": "7f341e4a",
   "metadata": {},
   "outputs": [
    {
     "name": "stdout",
     "output_type": "stream",
     "text": [
      "Element with maximum occurrence: 2\n"
     ]
    }
   ],
   "source": [
    "# 1. Given an array of n numbers, give an algorithm which gives the element appearing maximum number of times?\n",
    "def find_max_occurrence(arr):\n",
    "    frequency_dict = {}\n",
    "\n",
    "    for num in arr:\n",
    "        if num in frequency_dict:\n",
    "            frequency_dict[num] += 1\n",
    "        else:\n",
    "            frequency_dict[num] = 1\n",
    "\n",
    "    max_occurrence_element = max(frequency_dict, key=frequency_dict.get)\n",
    "\n",
    "    return max_occurrence_element\n",
    "\n",
    "# Example usage:\n",
    "arr = [1, 2, 3, 2, 2, 4, 3, 5, 2,3, 6, 2, 7,3]\n",
    "result = find_max_occurrence(arr)\n",
    "print(\"Element with maximum occurrence:\", result)"
   ]
  },
  {
   "cell_type": "markdown",
   "id": "d9f4faab",
   "metadata": {},
   "source": [
    "let's break down the find_max_occurrence function step by step:\n",
    "\n",
    "1.Initialization: The function begins by creating an empty dictionary called frequency_dict. This dictionary will be used to store the frequency (number of occurrences) of each element in the input array arr.\n",
    "\n",
    "2.Loop Through the Array: The function then iterates through each element in the input array arr using a for loop.\n",
    "\n",
    "3.Counting Occurrences: Inside the loop, for each element (num), it checks whether that element is already present in the frequency_dict or not. If it's present, the corresponding value (frequency) is incremented by 1. If it's not present, a new key is created in the dictionary with the element as the key and the value set to 1 (indicating the first occurrence).\n",
    "\n",
    "4.Frequency Dictionary: After the loop completes, the frequency_dict will contain the frequency of each unique element in the input array.\n",
    "\n",
    "5.Finding Maximum Occurrence Element: The function then uses the max function along with the key parameter to find the element with the maximum frequency in the frequency_dict. The key parameter specifies a function of one argument that is used to extract a comparison key. In this case, it extracts the frequency value associated with each element.\n",
    "\n",
    "6.Returning Result: Finally, the element with the maximum frequency is returned as the result of the function."
   ]
  },
  {
   "cell_type": "code",
   "execution_count": 4,
   "id": "7a1c22d3",
   "metadata": {},
   "outputs": [
    {
     "name": "stdout",
     "output_type": "stream",
     "text": [
      "Missing number: 5\n"
     ]
    }
   ],
   "source": [
    "# 2. We are given a list of n-1 integers and these integers are in the range of 1 to n . There are no duplicates in the list.\n",
    "# One of the integers is missing in the list. Give an algorithm to find that element Ex: [1,2,4,6,3,7,8] 5 is the missing num.\n",
    "def find_missing_number(arr):\n",
    "    n = len(arr) + 1\n",
    "    expected_sum = n * (n + 1) // 2\n",
    "    actual_sum = sum(arr)\n",
    "    missing_number = expected_sum - actual_sum\n",
    "\n",
    "    return missing_number\n",
    "\n",
    "# Example usage:\n",
    "arr = [1, 2, 4, 6, 3, 7, 8]\n",
    "result = find_missing_number(arr)\n",
    "print(\"Missing number:\", result)"
   ]
  },
  {
   "cell_type": "markdown",
   "id": "cad68710",
   "metadata": {},
   "source": [
    "This Python function utilizes the concept of the sum of the first n natural numbers and the sum of the given array to find the missing number. By calculating the difference between the expected sum and the actual sum, it identifies the element that is missing from the array.\n",
    "\n",
    "let's break down the find_missing_number function step by step:\n",
    "\n",
    "1.Determine the Expected Sum: The function starts by calculating the expected sum of numbers from 1 to n, where n is the length of the input array (arr) plus one (n = len(arr) + 1). This is done using the formula for the sum of the first n natural numbers, which is n * (n + 1) // 2.\n",
    "\n",
    "2.Calculate Actual Sum: The function then calculates the sum of all the numbers in the input array (arr) using the sum function. This represents the actual sum of the numbers present in the array.\n",
    "\n",
    "3.Find the Missing Number: The missing number is determined by subtracting the actual sum from the expected sum. The difference between the expected sum and the actual sum represents the missing number.\n",
    "\n",
    "4.Return Result: The missing number is returned as the result of the function.\n",
    "\n",
    "5.Example Usage: In the provided example with the array [1, 2, 4, 6, 3, 7, 8], the missing number is found using the algorithm, and the result is printed."
   ]
  },
  {
   "cell_type": "code",
   "execution_count": 7,
   "id": "a41d6ffc",
   "metadata": {},
   "outputs": [
    {
     "name": "stdout",
     "output_type": "stream",
     "text": [
      "Number occurring odd number of times: 3\n"
     ]
    }
   ],
   "source": [
    "# 3. Given an array of n positive numbers. All numbers occurs even number of times except 1 which occurs odd number of times.\n",
    "# Find that number in O(n) time and O(1) space. Ex: [1,2,3,2,3,1,3]. 3 is repeats odd times.\n",
    "def find_odd_occurrence(arr):\n",
    "    result = 0\n",
    "\n",
    "    for num in arr:\n",
    "        result ^= num\n",
    "\n",
    "    return result\n",
    "\n",
    "# Example usage:\n",
    "arr = [1, 2, 3, 2, 3, 1, 3]\n",
    "result = find_odd_occurrence(arr)\n",
    "print(\"Number occurring odd number of times:\", result)"
   ]
  },
  {
   "cell_type": "markdown",
   "id": "575eb9a5",
   "metadata": {},
   "source": [
    "1.Initialization: The function starts by initializing a variable called result to 0. This variable will be used to keep track of the number that occurs an odd number of times in the array.\n",
    "\n",
    "2.Bitwise XOR Operation: The function then iterates through each element in the input array (arr) using a for loop. For each element (num), it performs a bitwise XOR operation (result ^= num). Bitwise XOR is chosen because it has the property that A XOR A = 0 and 0 XOR B = B, making it useful for identifying the element occurring an odd number of times.\n",
    "\n",
    "3.XOR Operation Properties: The XOR operation is commutative and associative. As a result, when XORing all elements in the array, elements occurring even times will cancel each other out, leaving only the element that occurs an odd number of times.\n",
    "\n",
    "4.Return Result: The final result of the XOR operations is the number that occurs an odd number of times in the array. This result is returned by the function.\n",
    "\n",
    "5.Example Usage: In the provided example with the array [1, 2, 3, 2, 3, 1, 3], the algorithm is applied to find the number occurring an odd number of times. The result is printed."
   ]
  },
  {
   "cell_type": "code",
   "execution_count": 12,
   "id": "664be772",
   "metadata": {},
   "outputs": [
    {
     "name": "stdout",
     "output_type": "stream",
     "text": [
      "Pair with sum 9: 5 and 4\n"
     ]
    }
   ],
   "source": [
    "# 4. Given an array of n elements. Find two elements in the array such that their sum is equal to given element K.\n",
    "def find_pair_with_sum(arr, target_sum):\n",
    "    seen_numbers = set()\n",
    "\n",
    "    for num in arr:\n",
    "        complement = target_sum - num\n",
    "\n",
    "        if complement in seen_numbers:\n",
    "            return num, complement\n",
    "        else:\n",
    "            seen_numbers.add(num)\n",
    "\n",
    "    return None\n",
    "\n",
    "# Example usage:\n",
    "arr = [1, 2, 3, 4, 5, 6]\n",
    "target_sum = 9\n",
    "result = find_pair_with_sum(arr, target_sum)\n",
    "\n",
    "if result:\n",
    "    print(f\"Pair with sum {target_sum}: {result[0]} and {result[1]}\")\n",
    "else:\n",
    "    print(\"No such pair found.\")"
   ]
  },
  {
   "cell_type": "markdown",
   "id": "9825fb06",
   "metadata": {},
   "source": [
    "1.Initialization: The function begins by initializing an empty set called seen_numbers. This set is used to keep track of the numbers encountered while iterating through the array.\n",
    "\n",
    "2.Loop Through the Array: The function then iterates through each element (num) in the input array (arr) using a for loop.\n",
    "\n",
    "3.Calculate Complement: For each element, it calculates the complement by subtracting the current element (num) from the target sum (target_sum). The complement represents the value that, when added to the current element, gives the target sum.\n",
    "\n",
    "4.Check for Complement in Set: It checks if the complement is already present in the seen_numbers set. If it is, that means a pair of elements have been found whose sum is equal to the target sum. In this case, the function returns the current element (num) and its complement.\n",
    "\n",
    "5.Update Set or Continue: If the complement is not in the set, the current element is added to the seen_numbers set to mark it as encountered. The loop continues to the next element.\n",
    "\n",
    "6.Return Result: If no pair is found during the entire loop, the function returns None, indicating that there is no pair in the array whose sum is equal to the target sum."
   ]
  },
  {
   "cell_type": "code",
   "execution_count": 13,
   "id": "7e8468c4",
   "metadata": {},
   "outputs": [
    {
     "name": "stdout",
     "output_type": "stream",
     "text": [
      "Pair with sum closest to 0: (-80, 85)\n"
     ]
    }
   ],
   "source": [
    "# 5. Given an array of both positive and negative numbers, find two numbers such that their sum is closest to 0.\n",
    "# Ex: [ 1 ,60 ,-10, 70, -80,85]. Ans : -80,85.\n",
    "def find_closest_sum_to_zero(arr):\n",
    "    arr.sort()\n",
    "    left, right = 0, len(arr) - 1\n",
    "    closest_sum = float('inf')\n",
    "    result_pair = None\n",
    "\n",
    "    while left < right:\n",
    "        current_sum = arr[left] + arr[right]\n",
    "\n",
    "        if abs(current_sum) < abs(closest_sum):\n",
    "            closest_sum = current_sum\n",
    "            result_pair = (arr[left], arr[right])\n",
    "\n",
    "        if current_sum < 0:\n",
    "            left += 1\n",
    "        elif current_sum > 0:\n",
    "            right -= 1\n",
    "        else:\n",
    "            return result_pair\n",
    "\n",
    "    return result_pair\n",
    "\n",
    "# Example usage:\n",
    "arr = [1, 60, -10, 70, -80, 85]\n",
    "result = find_closest_sum_to_zero(arr)\n",
    "print(\"Pair with sum closest to 0:\", result)"
   ]
  },
  {
   "cell_type": "markdown",
   "id": "61362499",
   "metadata": {},
   "source": [
    "1.Sorting the Array: The function starts by sorting the input array (arr). Sorting is essential for efficiently finding the pair with the sum closest to zero, as it allows us to explore pairs in a systematic way.\n",
    "\n",
    "2.Initialize Pointers: The function initializes two pointers, left and right, initially pointing to the beginning and end of the sorted array, respectively. These pointers will be used to traverse the array from both ends towards the center.\n",
    "\n",
    "3.Initialize Variables: The function initializes variables closest_sum to positive infinity and result_pair to None. These variables will be used to keep track of the closest sum found during the traversal and the corresponding pair of elements.\n",
    "\n",
    "4.Traversal with Pointers: The function enters a while loop that continues until the left pointer is less than the right pointer. Inside the loop:\n",
    "\n",
    "4.1.It calculates the sum of the elements at the current positions of the pointers (arr[left] + arr[right]).\n",
    "\n",
    "4.2.If the absolute value of the current sum is less than the absolute value of the closest_sum, it updates closest_sum and      sets result_pair to the current pair of elements.\n",
    "\n",
    "4.3.It then adjusts the pointers based on the current sum:\n",
    "\n",
    "4.3.1.If the current sum is negative, it increments the left pointer.\n",
    "\n",
    "4.3.2.If the current sum is positive, it decrements the right pointer.\n",
    "\n",
    "4.3.3.If the current sum is zero, it immediately returns the result pair, as this is the closest possible sum to zero.\n",
    "\n",
    "5.Return Result: After the loop, the function returns the pair of elements (result_pair) that gives the sum closest to zero."
   ]
  },
  {
   "cell_type": "code",
   "execution_count": 14,
   "id": "cc33393c",
   "metadata": {},
   "outputs": [
    {
     "name": "stdout",
     "output_type": "stream",
     "text": [
      "Triplet with sum 22: 4, 8, 10\n"
     ]
    }
   ],
   "source": [
    "# 6. Given an array of n elements . Find three elements such that their sum is equal to the given number.\n",
    "def find_triplet_with_sum(arr, target_sum):\n",
    "    arr.sort()\n",
    "\n",
    "    for i in range(len(arr) - 2):\n",
    "        left, right = i + 1, len(arr) - 1\n",
    "\n",
    "        while left < right:\n",
    "            current_sum = arr[i] + arr[left] + arr[right]\n",
    "\n",
    "            if current_sum == target_sum:\n",
    "                return arr[i], arr[left], arr[right]\n",
    "            elif current_sum < target_sum:\n",
    "                left += 1\n",
    "            else:\n",
    "                right -= 1\n",
    "\n",
    "    return None\n",
    "\n",
    "# Example usage:\n",
    "arr = [1, 4, 45, 6, 10, 8]\n",
    "target_sum = 22\n",
    "result = find_triplet_with_sum(arr, target_sum)\n",
    "\n",
    "if result:\n",
    "    print(f\"Triplet with sum {target_sum}: {result[0]}, {result[1]}, {result[2]}\")\n",
    "else:\n",
    "    print(\"No such triplet found.\")"
   ]
  },
  {
   "cell_type": "markdown",
   "id": "3591b4aa",
   "metadata": {},
   "source": [
    "1.Sorting the Array: The function starts by sorting the input array (arr). Sorting is essential for efficiently finding the triplet with the specified sum, as it allows for a systematic exploration of possible combinations.\n",
    "\n",
    "2.Loop Through Possible Triplets: The function then enters a loop that iterates over the array up to the third-to-last element. This is because the algorithm will be exploring triplets, and the last two elements will be covered by the nested while loop.\n",
    "\n",
    "3.Initialize Pointers: Within the loop, the function initializes two pointers, left and right, initially pointing to the elements immediately following the current element being considered (arr[i]).\n",
    "\n",
    "4.Traversal with Pointers: The function enters a nested while loop that continues until the left pointer is less than the right pointer. Inside this loop:\n",
    "\n",
    "4.1.It calculates the sum of the elements at the current positions of the pointers (arr[i] + arr[left] + arr[right]).\n",
    "\n",
    "4.2.If the current sum is equal to the target sum, the function returns the triplet of elements.\n",
    "\n",
    "4.3.If the current sum is less than the target sum, it increments the left pointer.\n",
    "\n",
    "4.4.If the current sum is greater than the target sum, it decrements the right pointer.\n",
    "\n",
    "5.Return Result: If the loop completes without finding a triplet, the function returns None to indicate that there is no triplet with the specified sum."
   ]
  },
  {
   "cell_type": "code",
   "execution_count": 15,
   "id": "7ab33af2",
   "metadata": {},
   "outputs": [
    {
     "name": "stdout",
     "output_type": "stream",
     "text": [
      "Pythagorean Triplet: 3, 4, 5\n"
     ]
    }
   ],
   "source": [
    "# 7. Given an array of n elements . Find three elements i, j, k in the array such that i * i + j * j = k*k.\n",
    "def find_pythagorean_triplet(arr):\n",
    "    arr.sort()\n",
    "\n",
    "    for k in range(len(arr) - 1, 1, -1):\n",
    "        left, right = 0, k - 1\n",
    "\n",
    "        while left < right:\n",
    "            sum_of_squares = arr[left]**2 + arr[right]**2\n",
    "\n",
    "            if sum_of_squares == arr[k]**2:\n",
    "                return arr[left], arr[right], arr[k]\n",
    "            elif sum_of_squares < arr[k]**2:\n",
    "                left += 1\n",
    "            else:\n",
    "                right -= 1\n",
    "\n",
    "    return None\n",
    "\n",
    "# Example usage:\n",
    "arr = [3, 1, 4, 6, 5]\n",
    "result = find_pythagorean_triplet(arr)\n",
    "\n",
    "if result:\n",
    "    print(f\"Pythagorean Triplet: {result[0]}, {result[1]}, {result[2]}\")\n",
    "else:\n",
    "    print(\"No such triplet found.\")"
   ]
  },
  {
   "cell_type": "markdown",
   "id": "28637320",
   "metadata": {},
   "source": [
    "1.Sorting the Array: The function starts by sorting the input array (arr). Sorting is essential for efficiently finding the Pythagorean triplet, as it allows for a systematic exploration of possible combinations.\n",
    "\n",
    "2.Loop Through Possible Values of k: The function then enters a loop that iterates over the array, starting from the last element (k = len(arr) - 1) and going backward until the third element (k > 1). This is because the algorithm will be exploring triplets.\n",
    "\n",
    "3.Initialize Pointers: Within the loop, the function initializes two pointers, left and right, initially pointing to the first and second-to-last elements, respectively.\n",
    "\n",
    "4.Traversal with Pointers: The function enters a nested while loop that continues until the left pointer is less than the right pointer. Inside this loop:\n",
    "\n",
    "4.1.It calculates the sum of the squares of the elements at the current positions of the pointers (arr[left]**2 + arr[right]**2).\n",
    "\n",
    "4.2.If the sum of squares is equal to the square of the current k element (arr[k]**2), the function returns the triplet of elements.\n",
    "\n",
    "4.3.If the sum of squares is less than the square of the current k element, it increments the left pointer.\n",
    "\n",
    "4.4.If the sum of squares is greater than the square of the current k element, it decrements the right pointer.\n",
    "\n",
    "5.Return Result: If the loop completes without finding a triplet, the function returns None to indicate that there is no Pythagorean triplet in the array."
   ]
  },
  {
   "cell_type": "code",
   "execution_count": 16,
   "id": "fb449c92",
   "metadata": {},
   "outputs": [
    {
     "name": "stdout",
     "output_type": "stream",
     "text": [
      "Majority element: 4\n"
     ]
    }
   ],
   "source": [
    "# 8. An element is a majority if it appears more than n/2 times.\n",
    "# Give an algorithm takes an array of n element as argument and identifies a majority (if it exists).\n",
    "def find_majority_element(arr):\n",
    "    candidate = None\n",
    "    count = 0\n",
    "\n",
    "    for num in arr:\n",
    "        if count == 0:\n",
    "            candidate = num\n",
    "            count = 1\n",
    "        elif candidate == num:\n",
    "            count += 1\n",
    "        else:\n",
    "            count -= 1\n",
    "\n",
    "    count_candidate = arr.count(candidate)\n",
    "    if count_candidate > len(arr) // 2:\n",
    "        return candidate\n",
    "    else:\n",
    "        return None\n",
    "\n",
    "# Example usage:\n",
    "arr = [3, 3, 4, 2, 4, 4, 2, 4, 4]\n",
    "result = find_majority_element(arr)\n",
    "\n",
    "if result is not None:\n",
    "    print(\"Majority element:\", result)\n",
    "else:\n",
    "    print(\"No majority element found.\")"
   ]
  },
  {
   "cell_type": "markdown",
   "id": "8ff99de6",
   "metadata": {},
   "source": [
    "1.Initialize Variables: The function starts by initializing two variables, candidate and count, both set to None and 0, respectively. These variables will be used to keep track of the potential majority element and its count.\n",
    "\n",
    "2.Iterate Through the Array: The function iterates through each element (num) in the input array (arr) using a for loop.\n",
    "\n",
    "3.Check and Update Candidate: For each element, it checks if the count is 0. If so, it updates the candidate to the current element (num) and sets the count to 1. If the count is not 0, it checks if the current element is equal to the candidate. If yes, it increments the count; otherwise, it decrements the count.\n",
    "\n",
    "4.Count Occurrences of Candidate: After the loop, the function counts the occurrences of the candidate in the entire array using the count method.\n",
    "\n",
    "5.Check for Majority Element: If the count of the candidate is greater than half of the length of the array (len(arr) // 2), it means the candidate is a majority element, and it returns the candidate. Otherwise, it returns None to indicate that there is no majority element.\n",
    "\n",
    "6.Example Usage: In the provided example with the array [3, 3, 4, 2, 4, 4, 2, 4, 4], the algorithm is applied to find the majority element. If found, it prints the majority element; otherwise, it prints that no majority element is found."
   ]
  },
  {
   "cell_type": "code",
   "execution_count": 17,
   "id": "8fd156ef",
   "metadata": {},
   "outputs": [
    {
     "name": "stdout",
     "output_type": "stream",
     "text": [
      "Row with maximum number of 0's: 4\n"
     ]
    }
   ],
   "source": [
    "# 9. Given n × n matrix, and in each row all 1’s are followed by 0’s. Find the row with the maximum number of 0’s.\n",
    "def find_max_zeros_row(matrix):\n",
    "    max_zeros_row = -1\n",
    "    max_zeros_count = -1\n",
    "\n",
    "    n = len(matrix)\n",
    "\n",
    "    for i in range(n):\n",
    "        zeros_count = matrix[i].count(0)\n",
    "\n",
    "        if zeros_count > max_zeros_count:\n",
    "            max_zeros_row = i\n",
    "            max_zeros_count = zeros_count\n",
    "\n",
    "    return max_zeros_row\n",
    "\n",
    "# Example usage:\n",
    "matrix = [\n",
    "    [1, 1, 1, 0, 0],\n",
    "    [1, 1, 0, 0, 0],\n",
    "    [1, 1, 1, 1, 0],\n",
    "    [1, 1, 0, 0, 0],\n",
    "    [1, 0, 0, 0, 0]\n",
    "]\n",
    "\n",
    "result = find_max_zeros_row(matrix)\n",
    "\n",
    "print(\"Row with maximum number of 0's:\", result)"
   ]
  },
  {
   "cell_type": "markdown",
   "id": "5fe6f13f",
   "metadata": {},
   "source": [
    "1.Initialization: The function starts by initializing two variables, max_zeros_row and max_zeros_count, to -1. These variables will be used to keep track of the row number with the maximum number of zeros and the count of zeros in that row, respectively.\n",
    "\n",
    "2.Matrix Size: It determines the size of the square matrix (n x n) by getting the length of the matrix (n = len(matrix)).\n",
    "\n",
    "3.Iterate Through Rows: The function enters a loop that iterates through each row of the matrix (from 0 to n-1).\n",
    "\n",
    "4.Count Zeros in Each Row: For each row (matrix[i]), it counts the number of zeros in that row using the count method (zeros_count = matrix[i].count(0)).\n",
    "\n",
    "5.Update Max Zeros Information: If the count of zeros in the current row is greater than the max_zeros_count, it updates the max_zeros_row and max_zeros_count variables with the current row number and the count of zeros, respectively.\n",
    "\n",
    "6.Return Result: After the loop completes, the function returns the row number (max_zeros_row) with the maximum number of zeros. If all rows have the same number of zeros, it returns the last row with the maximum zeros."
   ]
  },
  {
   "cell_type": "code",
   "execution_count": 18,
   "id": "b9294734",
   "metadata": {},
   "outputs": [
    {
     "name": "stdout",
     "output_type": "stream",
     "text": [
      "Sorted array: [0, 0, 0, 0, 0, 1, 1, 1, 1, 1, 2, 2]\n"
     ]
    }
   ],
   "source": [
    "# 10. Sort an array of 0’s, 1’s and 2’s [or R’s, G’s and B’s]: Given an array A[] consisting of 0’s, 1’s and 2’s,\n",
    "# give an algorithm for sorting A[].The algorithm should put all 0’s first, then all 1’s and finally all 2’s at the end.\n",
    "# Example Input = {0,1,1,0,1,2,1,2,0,0,0,1}, Output = {0,0,0,0,0,1,1,1,1,1,2,2}\n",
    "def sort_012(arr):\n",
    "    low, mid, high = 0, 0, len(arr) - 1\n",
    "\n",
    "    while mid <= high:\n",
    "        if arr[mid] == 0:\n",
    "            arr[low], arr[mid] = arr[mid], arr[low]\n",
    "            low += 1\n",
    "            mid += 1\n",
    "        elif arr[mid] == 1:\n",
    "            mid += 1\n",
    "        else:\n",
    "            arr[mid], arr[high] = arr[high], arr[mid]\n",
    "            high -= 1\n",
    "\n",
    "# Example usage:\n",
    "arr = [0, 1, 1, 0, 1, 2, 1, 2, 0, 0, 0, 1]\n",
    "sort_012(arr)\n",
    "\n",
    "print(\"Sorted array:\", arr)"
   ]
  },
  {
   "cell_type": "markdown",
   "id": "fd3d6d0e",
   "metadata": {},
   "source": [
    "1.Initialize Pointers: The function starts by initializing three pointers, low, mid, and high. low points to the position where the next 0 should be placed, mid is used for iterating through the array, and high points to the position where the next 2 should be placed. low and mid start at the beginning of the array, and high starts at the end of the array.\n",
    "\n",
    "2.Loop Through the Array: The function enters a while loop that continues as long as mid is less than or equal to high. This loop is used to iterate through the array and rearrange elements.\n",
    "\n",
    "3.Check Current Element: For the element at the current position (arr[mid]), there are three possibilities:\n",
    "\n",
    "3.1.If it's 0, swap it with the element at position low, increment both low and mid. This is because 0 should come before 1.\n",
    "\n",
    "3.2.If it's 1, leave it in place and simply increment mid. 1 should remain in the middle.\n",
    "\n",
    "3.3.If it's 2, swap it with the element at position high, decrement high. This is because 2 should come after 1.\n",
    "\n",
    "4.Continue Iterating: After performing the necessary swaps and increments/decrements, the loop continues to the next iteration.\n",
    "\n",
    "5.Array is Sorted: The loop continues until mid exceeds high. At this point, the array is sorted with all 0's on the left, 1's in the middle, and 2's on the right.\n",
    "\n",
    "6.Print Sorted Array: The sorted array is then printed to the console."
   ]
  },
  {
   "cell_type": "code",
   "execution_count": null,
   "id": "ad6ec707",
   "metadata": {},
   "outputs": [],
   "source": []
  }
 ],
 "metadata": {
  "kernelspec": {
   "display_name": "Python 3 (ipykernel)",
   "language": "python",
   "name": "python3"
  },
  "language_info": {
   "codemirror_mode": {
    "name": "ipython",
    "version": 3
   },
   "file_extension": ".py",
   "mimetype": "text/x-python",
   "name": "python",
   "nbconvert_exporter": "python",
   "pygments_lexer": "ipython3",
   "version": "3.11.4"
  }
 },
 "nbformat": 4,
 "nbformat_minor": 5
}
